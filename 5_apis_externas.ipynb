{
 "cells": [
  {
   "cell_type": "markdown",
   "metadata": {},
   "source": [
    "# APIs Externas\n",
    "\n",
    "#### Hola! 👋\n",
    "\n",
    "En este notebook, aprenderás a trabajar con APIs externas desde Python. Las APIs (Application Programming Interfaces) son herramientas poderosas que permiten a nuestras aplicaciones interactuar con otros servicios y obtener datos en tiempo real.\n",
    "\n",
    "**Estructura:**  \n",
    "1. **Llamado la API de Spotify**\n",
    "2. **Obtener información sobre las canciones más escuchadas con la API de spotify ocupando `spotipy`**\n",
    "3. **Obtener data de INEGI a través de su API y graficarla con matplotlib**\n",
    "4. **Ocupar GTP a través de su API**"
   ]
  },
  {
   "cell_type": "markdown",
   "metadata": {},
   "source": [
    "## 🎧 Spotify"
   ]
  },
  {
   "cell_type": "markdown",
   "metadata": {},
   "source": [
    "### 🎤 Obtener información sobre un artista"
   ]
  },
  {
   "cell_type": "markdown",
   "metadata": {},
   "source": [
    "Antes de comenzar a ocupar la API, necesitamos definior una función para obtener un token de acceso. Este token es necesario para autenticar nuestras solicitudes a la API de Spotify.\n",
    "\n",
    "- **`CLIENT_ID` y `CLIENT_SECRET`:** identificadores únicos de nuestra aplicación.\n",
    "- **`get_spotify_token()`:** función que:\n",
    "  - Hace una solicitud HTTP POST a la API de autenticación de Spotify.\n",
    "  - Incluye las credenciales de la aplicación.\n",
    "  - Recibe un token de acceso válido por un tiempo limitado.\n",
    "\n",
    "> 🚨 **Concepto clave:**  \n",
    "El token de acceso es como una llave temporal que necesitas para interactuar con la API. Debes renovarlo cuando expire y sobre todo NUNCA COMPARTIRLO, es como la contraseña de tus servicios.\n",
    "\n",
    "\n",
    "**¿Cómo se obtiene?**\n",
    "\n",
    "Se obtiene:\n",
    "  1. ingresando en [Web API | Spotify for Developers](https://developer.spotify.com/documentation/web-api), \n",
    "  2. creando una cuenta para desarrolladores con tu cuenta de Spotify\n",
    "  3. creando una app\n",
    "  4. copiando tu CLIENT_ID y CLIENT_SECRET\n",
    "\n",
    "\n"
   ]
  },
  {
   "cell_type": "code",
   "execution_count": null,
   "metadata": {},
   "outputs": [],
   "source": [
    "import requests\n",
    "\n",
    "# Configura tus credenciales de la aplicación\n",
    "CLIENT_ID = \"\"\n",
    "CLIENT_SECRET = \"\"\n",
    "\n",
    "# Obtener token de Spotify\n",
    "def get_spotify_token():\n",
    "    url = \"https://accounts.spotify.com/api/token\"\n",
    "    headers = {\"Content-Type\": \"application/x-www-form-urlencoded\"}\n",
    "    data = {\n",
    "        \"grant_type\": \"client_credentials\",\n",
    "        \"client_id\": CLIENT_ID,\n",
    "        \"client_secret\": CLIENT_SECRET,\n",
    "    }\n",
    "    response = requests.post(url, headers=headers, data=data)\n",
    "    response.raise_for_status()\n",
    "    return response.json()[\"access_token\"]"
   ]
  },
  {
   "cell_type": "markdown",
   "metadata": {},
   "source": [
    "Una vez que ya tenemos esa conexión, haremos una nueva función llamda `get_spotify_data` que utiliza el token de acceso para obtener información desde un endpoint específico de Spotify. En este ejemplo, obtenemos información sobre un artista utilizando su ID.\n",
    "\n",
    "- **Parámetros importantes:**\n",
    "  - **`endpoint`:** especifica la ruta de la API a consultar (por ejemplo, \"artists/{artist_id}\").\n",
    "  - **`artist_id`:** identificador único del artista en Spotify.\n"
   ]
  },
  {
   "cell_type": "code",
   "execution_count": null,
   "metadata": {},
   "outputs": [],
   "source": [
    "# Obtener datos de la API de Spotify\n",
    "def get_spotify_data(endpoint):\n",
    "    token = get_spotify_token()\n",
    "    url = f\"https://api.spotify.com/v1/{endpoint}\"\n",
    "    headers = {\"Authorization\": f\"Bearer {token}\"}\n",
    "    response = requests.get(url, headers=headers)\n",
    "    response.raise_for_status()\n",
    "    return response.json()\n",
    "\n",
    "# Ejemplo: obtener datos de un artista por su ID\n",
    "artist_id = \"4dpARuHxo51G3z768sgnrY\"  # ID de Adele\n",
    "artist_data = get_spotify_data(f\"artists/{artist_id}\")\n",
    "\n",
    "# Mostrar resultados\n",
    "print(f\"Nombre: {artist_data['name']}\")\n",
    "print(f\"Popularidad: {artist_data['popularity']}\")\n",
    "print(f\"Géneros: {', '.join(artist_data['genres'])}\")"
   ]
  },
  {
   "cell_type": "markdown",
   "metadata": {},
   "source": [
    "### 👍 Canciones más escuchadas"
   ]
  },
  {
   "cell_type": "markdown",
   "metadata": {},
   "source": [
    "Bien, hasta ahora hemos una solicitud sencilla, pero ¿Qué pasaría si quisiéramos ocupar algo más complejo? como por ejemplo, obtener mi top de canciones del 2024, igual que en Spotify Wrapped. Para ello, usaremos la librería `Spotipy` para manejar la autenticación y el flujo de permisos (OAuth 2.0) con Spotify. Este método es más avanzado y permite acceder a datos relacionados con usuarios.\n",
    "\n",
    "En este caso, yo usaré mi token asignado a mi cuenta de Spotify para mostrar mis artistas más escuchados en 2024.\n",
    "\n",
    "- **Parámetros necesarios:**\n",
    "  - **`REDIRECT_URI`:** URL donde Spotify redirige después de autenticar al usuario.\n",
    "  - **`SCOPE`:** permisos que solicitamos (en este caso, acceso a canciones más escuchadas).\n",
    "\n",
    "**Parámetros de la función:**  \n",
    "- **`get_top_tracks_last_year()`:** obtiene las canciones más escuchadas del último año (aproximado). Muestra:\n",
    "  - Posición en el ranking.\n",
    "  - Nombre de la canción.\n",
    "  - Artista(s).\n",
    "  - Álbum.\n",
    "\n"
   ]
  },
  {
   "cell_type": "code",
   "execution_count": null,
   "metadata": {},
   "outputs": [],
   "source": [
    "import spotipy\n",
    "from spotipy.oauth2 import SpotifyOAuth\n",
    "\n",
    "# Configuración de credenciales y alcance\n",
    "CLIENT_ID = \"\"\n",
    "CLIENT_SECRET = \"\"\n",
    "REDIRECT_URI = \"\"  # URL de redirección\n",
    "SCOPE = \"\"  # Permiso para leer canciones más escuchadas\n",
    "\n",
    "# Inicializar autenticación con Spotify\n",
    "sp = spotipy.Spotify(auth_manager=SpotifyOAuth(\n",
    "    client_id=CLIENT_ID,\n",
    "    client_secret=CLIENT_SECRET,\n",
    "    redirect_uri=REDIRECT_URI,\n",
    "    scope=SCOPE\n",
    "))\n",
    "\n",
    "# Función para obtener canciones más escuchadas del último año (usando medium_term como aproximación)\n",
    "def get_top_tracks_last_year(limit=10):\n",
    "    \"\"\"\n",
    "    Obtiene las canciones más escuchadas del último año (aproximado con medium_term).\n",
    "    \"\"\"\n",
    "    results = sp.current_user_top_tracks(time_range=\"medium_term\", limit=limit)\n",
    "    top_tracks = []\n",
    "    for idx, item in enumerate(results['items']):\n",
    "        track = {\n",
    "            \"rank\": idx + 1,\n",
    "            \"name\": item['name'],\n",
    "            \"artist\": \", \".join([artist['name'] for artist in item['artists']]),\n",
    "            \"album\": item['album']['name']\n",
    "        }\n",
    "        top_tracks.append(track)\n",
    "    return top_tracks\n",
    "\n",
    "# Obtener y mostrar las canciones\n",
    "top_tracks = get_top_tracks_last_year(limit=20)\n",
    "\n",
    "print(\"Tus canciones más escuchadas del último año:\")\n",
    "for track in top_tracks:\n",
    "    print(f\"{track['rank']}. {track['name']} -- {track['artist']} (Álbum: {track['album']})\")\n"
   ]
  },
  {
   "cell_type": "markdown",
   "metadata": {},
   "source": [
    "### 🧑‍🧑‍🧒‍🧒 Artistas mas escuchados\n",
    "\n",
    "Similar a la celda anterior, usamos `Spotipy` para obtener datos sobre los artistas más escuchados por el usuario en el último año.\n",
    "\n",
    "- **Función destacada:**\n",
    "  - **`get_top_artists_last_year()`:** devuelve una lista de los artistas más escuchados. Muestra:\n",
    "    - Posición en el ranking.\n",
    "    - Nombre del artista.\n",
    "    - Géneros musicales.\n",
    "    - Popularidad (en una escala de 0 a 100)."
   ]
  },
  {
   "cell_type": "code",
   "execution_count": null,
   "metadata": {},
   "outputs": [],
   "source": [
    "# Inicializar autenticación con Spotify\n",
    "sp = spotipy.Spotify(auth_manager=SpotifyOAuth(\n",
    "    client_id=CLIENT_ID,\n",
    "    client_secret=CLIENT_SECRET,\n",
    "    redirect_uri=REDIRECT_URI,\n",
    "    scope=SCOPE\n",
    "))\n",
    "\n",
    "# Función para obtener artistas más escuchados del último año (usando medium_term como aproximación)\n",
    "def get_top_artists_last_year(limit=10):\n",
    "    \"\"\"\n",
    "    Obtiene los artistas más escuchados del último año (aproximado con medium_term).\n",
    "    \"\"\"\n",
    "    results = sp.current_user_top_artists(time_range=\"medium_term\", limit=limit)\n",
    "    top_artists = []\n",
    "    for idx, item in enumerate(results['items']):\n",
    "        artist = {\n",
    "            \"rank\": idx + 1,\n",
    "            \"name\": item['name'],\n",
    "            \"genres\": \", \".join(item['genres']),\n",
    "            \"popularity\": item['popularity']\n",
    "        }\n",
    "        top_artists.append(artist)\n",
    "    return top_artists\n",
    "\n",
    "# Obtener y mostrar los artistas\n",
    "top_artists = get_top_artists_last_year(limit=10)\n",
    "\n",
    "print(\"Tus artistas más escuchados del último año:\")\n",
    "for artist in top_artists:\n",
    "    print(f\"{artist['rank']}. {artist['name']} (Géneros: {artist['genres']}, Popularidad: {artist['popularity']})\")\n"
   ]
  },
  {
   "cell_type": "markdown",
   "metadata": {},
   "source": [
    "Si observas, cuando obtuvimos la información de **Adele** hicimos un llamado con `requests`, a diferencia de cuando hicimos un llamado a nuestras canciones y artistas favoritos, pues lo hicimos a través con `spotipy`, la cual es una librería.\n",
    "\n",
    "Esta diferencia es importante, porque aun cuando un servicio tenga API, no necesariamente tiene una librería que lo sustente. Por lo general, las librerías son creadas por la comunidad.\n",
    "\n",
    "En dado caso de que no exista alguna librería, entonces tendrás que consumir la API desde `requests`\n",
    "\n",
    "\n",
    "----"
   ]
  },
  {
   "cell_type": "markdown",
   "metadata": {},
   "source": [
    "Esto y más se puede hacer con la API de Spotify 😦 básicamente todo lo que hace la app de tu celular o compu pero del lado de código.\n",
    "\n",
    "Para mayor información sobre qué mas puedes hacer con la API de Spotify, te recomendamos revisar su [documentación](https://developer.spotify.com/documentation/web-api), por ejemplo [cómo obtener recomendaciones](https://developer.spotify.com/documentation/web-api/reference/get-recommendations)\n",
    "\n",
    "Asimismo puedes dar `control + click` o `command + click` a los métodos de `sp`, como por ejemplo en `sp.current_user_top_artists`. Esto te llevará a las funciones que se ahn construido en `spotipy` y ver qué otras cosas puedes traer con la API de tu usuario."
   ]
  },
  {
   "cell_type": "markdown",
   "metadata": {},
   "source": [
    "#### 🚨 **Nota**: \n",
    "\n",
    "Puedes intentar pedirle a **Chat-GPT** u otra IA que genere un código para conectarse a la API de spotify (o cualquier otro servicio) y únicamente sustituir los valores de `ID` y `Llave`. \n",
    "\n",
    "Igualmente, puedes pedirle algo más específico como *\"Que el código se conecte a la API y traiga todas mis canciones favoritas\"*, o *\"Un código para que extraifa la info de alguna canción\"*"
   ]
  },
  {
   "cell_type": "markdown",
   "metadata": {},
   "source": [
    "## 🌎 INEGI"
   ]
  },
  {
   "cell_type": "markdown",
   "metadata": {},
   "source": [
    "Bien, hasta ahora hemos hecho APIs por nuestra cuenta e igualmente hemos consumido la API de un servicio como Spotify. Existen miles de APIs más de los servicios o productos que ocupamos en nuestro día a día, y una útil para los economistas es la de INEGI.\n",
    "\n",
    "Esta API es de uso público, basta con solicitar un TOKEN en su página y leer la documentación o utilizar el [Constructor de Consultas](https://www.inegi.org.mx/servicios/api_indicadores.html#collapse3) para saber qué serie queremos descargar.\n",
    "\n",
    "Para el siguiente ejemplo accederemos a la API del INEGI para obtener información de una serie específica de indicadores económicos. Usamos un token personal para autenticar nuestra solicitud.\n",
    "\n",
    "- **Parámetros importantes:**\n",
    "  - **`INEGI_TOKEN`:** token personal de acceso.\n",
    "  - **`ID_SERIE`:** identificador único de la serie de interés.\n",
    "  - **`RECIENTE`:** indica si queremos datos históricos o recientes.\n",
    "\n",
    "**Flujo de trabajo:**\n",
    "1. Hacemos una solicitud GET a la URL de la API del INEGI.\n",
    "2. Verificamos si la respuesta es exitosa.\n",
    "3. Parseamos el JSON recibido para extraer los datos de la serie.\n"
   ]
  },
  {
   "cell_type": "code",
   "execution_count": null,
   "metadata": {},
   "outputs": [],
   "source": [
    "import requests\n",
    "\n",
    "# Reemplaza '[Aquí va tu Token]' con tu token personal proporcionado por INEGI\n",
    "INEGI_TOKEN = \"\"\n",
    "ID_SERIE = \"444559\"  # ID de la serie de interés\n",
    "RECIENTE = \"false\"  # Indica si se desea la información más reciente (\"true\") o histórica (\"false\")\n",
    "\n",
    "INEGI_URL = f\"https://www.inegi.org.mx/app/api/indicadores/desarrolladores/jsonxml/INDICATOR/{ID_SERIE}/es/0700/{RECIENTE}/BIE/2.0/{INEGI_TOKEN}?type=json\"\n",
    "\n",
    "# Hacer la solicitud a la API\n",
    "response = requests.get(INEGI_URL)\n",
    "\n",
    "# Verificar si la solicitud fue exitosa\n",
    "if response.status_code == 200:\n",
    "    data = response.json()  # Parsear el JSON\n",
    "    # Acceder a la información deseada\n",
    "    series = data.get(\"Series\", [])\n",
    "    for serie in series:\n",
    "        print(f\"Indicador: {serie.get('INDICADOR')}\")\n",
    "        print(\"Observaciones:\")\n",
    "        for obs in serie.get(\"OBSERVATIONS\", []):\n",
    "            print(f\"Fecha: {obs.get('TIME_PERIOD')}, Valor: {obs.get('OBS_VALUE')}\")\n",
    "else:\n",
    "    print(f\"Error en la solicitud: {response.status_code}\")\n"
   ]
  },
  {
   "cell_type": "markdown",
   "metadata": {},
   "source": [
    "🤔 bien...pero, los datos están en un formato que nos complica el poder explotarlos. Para ello, vamos a crear un código que nos transforme esos datos en un pandas dataframe, el cual será más fácil de manipular y explotar"
   ]
  },
  {
   "cell_type": "code",
   "execution_count": null,
   "metadata": {},
   "outputs": [],
   "source": [
    "import requests\n",
    "import pandas as pd\n",
    "\n",
    "# Reemplaza '[Aquí va tu Token]' con tu token personal proporcionado por INEGI\n",
    "INEGI_TOKEN = \"\"\n",
    "ID_SERIE = \"444559\"  # ID de la serie de interés\n",
    "RECIENTE = \"false\"  # Indica si se desea la información más reciente (\"true\") o histórica (\"false\")\n",
    "\n",
    "INEGI_URL = f\"https://www.inegi.org.mx/app/api/indicadores/desarrolladores/jsonxml/INDICATOR/{ID_SERIE}/es/0700/{RECIENTE}/BIE/2.0/{INEGI_TOKEN}?type=json\"\n",
    "\n",
    "# Hacer la solicitud a la API\n",
    "response = requests.get(INEGI_URL)\n",
    "\n",
    "# Verificar si la solicitud fue exitosa\n",
    "if response.status_code == 200:\n",
    "    data = response.json()  # Parsear el JSON\n",
    "    # Extraer las observaciones en una lista de diccionarios\n",
    "    series = data.get(\"Series\", [])\n",
    "    all_observations = []\n",
    "    \n",
    "    for serie in series:\n",
    "        observations = serie.get(\"OBSERVATIONS\", [])\n",
    "        for obs in observations:\n",
    "            all_observations.append({\n",
    "                \"Fecha\": obs.get(\"TIME_PERIOD\"),\n",
    "                \"Valor\": obs.get(\"OBS_VALUE\")\n",
    "            })\n",
    "    \n",
    "    # Crear el DataFrame\n",
    "    df = pd.DataFrame(all_observations)\n",
    "    display(df)\n",
    "else:\n",
    "    print(f\"Error en la solicitud: {response.status_code}\")\n"
   ]
  },
  {
   "cell_type": "markdown",
   "metadata": {},
   "source": [
    "🎉🎉🎉🎉 Super! \n",
    "\n",
    "Ahora ya podemos utilizar ese dataframe para gráficarlo o explotarlo de la mejor manera posible, incluso haciendo un modelo de series de tiempo, como los que has aprendido en el cuso.\n",
    "\n",
    "Por ahora, vamos a graficar esa serie de manera muy sencilla utilizando `matplotlib`"
   ]
  },
  {
   "cell_type": "code",
   "execution_count": null,
   "metadata": {},
   "outputs": [],
   "source": [
    "import matplotlib.pyplot as plt\n",
    "\n",
    "# Asegúrate de que el DataFrame 'df' ya esté definido\n",
    "# Convertir la columna \"Fecha\" a tipo datetime y \"Valor\" a float (si no lo está)\n",
    "df[\"Fecha\"] = pd.to_datetime(df[\"Fecha\"])\n",
    "df[\"Valor\"] = pd.to_numeric(df[\"Valor\"], errors=\"coerce\")  # Convierte a float, ignora valores inválidos\n",
    "\n",
    "# Crear el gráfico de línea\n",
    "plt.figure(figsize=(10, 6))  # Tamaño del gráfico\n",
    "plt.plot(df[\"Fecha\"], df[\"Valor\"], marker='o', linestyle='-', label=\"PEA\")\n",
    "\n",
    "# Personalizar el gráfico\n",
    "plt.title(f\"Total de Población Económicamente Activa - México \\n 2009 - 2024\", fontsize=16)\n",
    "plt.xlabel(\"Fecha\", fontsize=12)\n",
    "plt.ylabel(\"Valor\", fontsize=12)\n",
    "plt.grid(True, linestyle='--', alpha=0.6)\n",
    "plt.legend()\n",
    "plt.tight_layout()\n",
    "\n",
    "# Mostrar el gráfico\n",
    "plt.show()\n"
   ]
  },
  {
   "cell_type": "markdown",
   "metadata": {},
   "source": [
    "Intenta probar con los siguientes IDs de series:\n",
    "* `472079` -> PIB total nacional\n",
    "* `702094` -> Índice global de personal ocupado de los sectores económicos (construcción, industrias manufactureras, comercio al por mayor, comercio al por menor y servicios privados no financieros)\n",
    "* `6204138038` -> Balanza comercial de la industria manufacturera.. Saldo Importaciones Papel, imprenta e industria editorial. Valores absolutos"
   ]
  },
  {
   "cell_type": "markdown",
   "metadata": {},
   "source": [
    "🎉🎉🎉 **¡Genial!**\n",
    "\n",
    "Ahora que tenemos un gráfico funcional con los datos de la API de INEGI, las posibilidades son infinitas. Aquí tienes algunas ideas emocionantes de lo que podrías hacer:\n",
    "\n",
    "- 📈 **Pronósticos Automatizados**  \n",
    "  Configura un proceso para:\n",
    "  1. Consultar las series del INEGI automáticamente cada mes.\n",
    "  2. Aplicar un modelo de predicción (como ARIMA o Prophet).\n",
    "  3. Enviar un reporte automático por correo con un gráfico que muestre las tendencias económicas y predicciones futuras.\n",
    "\n",
    "  ¡Podrías convertirte en el analista estrella de tu equipo!\n",
    "\n",
    "- 🔔 **Alertas Inteligentes**  \n",
    "  Configura un sistema de alertas que:\n",
    "  - Supervise indicadores económicos clave (como inflación o empleo).\n",
    "  - Envíe notificaciones automáticas (por correo, Slack o Telegram) si detecta cambios inusuales.\n",
    "\n",
    "  Por ejemplo: \"📊 **¡Alerta!** La inflación ha superado el 5%. Aquí tienes los datos más recientes.\"\n",
    "\n",
    "- 🎮 **Gamificación de Datos**  \n",
    "  Crea un dashboard interactivo donde los usuarios puedan:\n",
    "  - Elegir series específicas del INEGI y ver gráficos en tiempo real.\n",
    "\n",
    "- 🛠️ **Aplicaciones Personalizadas**  \n",
    "  Imagina integrar esta API en una aplicación móvil o web para:\n",
    "  - Generar visualizaciones interactivas con gráficos dinámicos.\n",
    "  - Ayudar a las empresas a tomar decisiones basadas en datos macroeconómicos recientes.\n",
    "\n",
    "  ¡Podrías construir una herramienta imprescindible para analistas!\n",
    "\n",
    "- 🤖 **Data Science con Esteroides**  \n",
    "  Usa los datos del INEGI como entrada para modelos de machine learning. Algunas ideas:\n",
    "  - Predecir comportamientos del mercado laboral.\n",
    "  - Encontrar correlaciones inesperadas entre diferentes indicadores económicos.\n",
    "\n",
    "  ¡Explorar estos datos puede ayudarte a descubrir patrones sorprendentes y útiles!\n",
    "\n",
    "💡 **Tu imaginación es el techo!** Y si aún no te sientes muy seguro de programar, no te preocupes, todas estas propuestas y algunas más pueden ser programas en su totalidad con alguna IA, sólo recuerda ser muy explícito y pasarle el contexto de qué quieres hacer.\n"
   ]
  },
  {
   "cell_type": "markdown",
   "metadata": {},
   "source": [
    "✏️ Nota: Puedes consultar `INEGYPy`, una librería de [`@andreslomeliv`](https://github.com/andreslomeliv) la cual hace una conexión directa a la API de Inegi, aunque de forma mpas estructurada.\n",
    "\n",
    "Este [notebook](https://github.com/andreslomeliv/DatosMex/tree/master/INEGIpy) incluye ejercicios interesantes, como la extracción de datos en pandas dataframe de forma sencilla y plots de mapas geográficos con datos de INEGI\n"
   ]
  },
  {
   "cell_type": "markdown",
   "metadata": {},
   "source": [
    "## 🤖 OpenAI"
   ]
  },
  {
   "cell_type": "markdown",
   "metadata": {},
   "source": [
    "🎉 **¡Al fin! Hemos llegado a la última API, la de OpenAI.**\n",
    "\n",
    "Esta API nos permite consultar todos los servicios de Inteligencia Artificial que tiene disponibles OpenAI, entre ellos a GPT. \n",
    "\n",
    "Seguro has visto cientos de apps recientemente que tiene integrado GPT...¿Cómo funcionan? pues con un llamado a la API de OpenAI! justo como lo haremos a continuación.\n",
    "\n",
    "Por lo tanto, si queremos ocupar GPT desde acá sin la necesidad de meternos a Chat-GPT, podemos ocupar la API.\n",
    "\n",
    "Nos responderá igual que cuando ingresamos al chat. \n",
    "\n",
    "Para ello también necesitamos un token para acceder el cual podemos generar desde el [sitio de OpenAI](https://platform.openai.com/playground/chat). Hay que considerar que para esta API se necesita pagar por el servicio, por lo que cuando crees tu cuenta necesitarás abonar en USD una cantidad para que puedas comenzar a consumir la API\n",
    "\n",
    "OpenAI cobra por tokens dependiendo del modelo que ocupes, puedes consultar más en [este link](https://openai.com/api/pricing/) sobre los costos y en [este sitio](https://tiktokenizer.vercel.app) puedes pegar tu texto para que sepas cuántos tokens hay en él."
   ]
  },
  {
   "cell_type": "code",
   "execution_count": null,
   "metadata": {},
   "outputs": [],
   "source": [
    "from openai import OpenAI\n",
    "\n",
    "client = OpenAI(api_key=\"\")\n",
    "\n",
    "completion = client.chat.completions.create(\n",
    "    model=\"gpt-4o\",\n",
    "    messages=[\n",
    "        {\"role\": \"user\", \"content\": \"Hola GPT, ¿cómo estás?\"},\n",
    "    ]\n",
    ")\n",
    "\n",
    "print(completion.choices[0].message.content)"
   ]
  },
  {
   "cell_type": "markdown",
   "metadata": {},
   "source": [
    "---- FIN DEL NOTEBOOK ----"
   ]
  }
 ],
 "metadata": {
  "kernelspec": {
   "display_name": "apis_fe",
   "language": "python",
   "name": "python3"
  },
  "language_info": {
   "codemirror_mode": {
    "name": "ipython",
    "version": 3
   },
   "file_extension": ".py",
   "mimetype": "text/x-python",
   "name": "python",
   "nbconvert_exporter": "python",
   "pygments_lexer": "ipython3",
   "version": "3.10.15"
  }
 },
 "nbformat": 4,
 "nbformat_minor": 2
}
